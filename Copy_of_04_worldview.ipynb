{
  "nbformat": 4,
  "nbformat_minor": 0,
  "metadata": {
    "kernelspec": {
      "display_name": "Python 3",
      "language": "python",
      "name": "python3"
    },
    "language_info": {
      "codemirror_mode": {
        "name": "ipython",
        "version": 3
      },
      "file_extension": ".py",
      "mimetype": "text/x-python",
      "name": "python",
      "nbconvert_exporter": "python",
      "pygments_lexer": "ipython3",
      "version": "3.7.6"
    },
    "colab": {
      "name": "Copy of 04_worldview.ipynb",
      "provenance": [],
      "collapsed_sections": [
        "--CzV5vFnMSe",
        "ihzOH_wwnMSe",
        "bLyaF5FanMSf"
      ]
    }
  },
  "cells": [
    {
      "cell_type": "markdown",
      "metadata": {
        "id": "fD_AG9HLnMSD"
      },
      "source": [
        ""
      ]
    },
    {
      "cell_type": "markdown",
      "metadata": {
        "id": "hGezxZIRnMSJ"
      },
      "source": [
        "\n",
        "\n"
      ]
    },
    {
      "cell_type": "markdown",
      "metadata": {
        "id": "slsWl033nMSK"
      },
      "source": [
        "### Setup\n",
        "\n",
        "If you are running this notebook in Colab, the following cell installs the `empiricaldist` library.\n",
        "\n",
        "If you are running in another environment, you will need to install it yourself."
      ]
    },
    {
      "cell_type": "code",
      "metadata": {
        "id": "PiFGRl-inMSK",
        "colab": {
          "base_uri": "https://localhost:8080/"
        },
        "outputId": "465d58e1-8b9a-4e42-c16c-bb5bb5dd4192"
      },
      "source": [
        "# If we're running in Colab, set up the environment\n",
        "\n",
        "import sys\n",
        "IN_COLAB = 'google.colab' in sys.modules\n",
        "\n",
        "if IN_COLAB:\n",
        "    !pip install empiricaldist"
      ],
      "execution_count": null,
      "outputs": [
        {
          "output_type": "stream",
          "text": [
            "Collecting empiricaldist\n",
            "  Downloading https://files.pythonhosted.org/packages/b4/92/c779e66d478e6a62e9d5b2bd1c3a004e047153937ad411283a7bfc9f2272/empiricaldist-0.3.10.tar.gz\n",
            "Building wheels for collected packages: empiricaldist\n",
            "  Building wheel for empiricaldist (setup.py) ... \u001b[?25l\u001b[?25hdone\n",
            "  Created wheel for empiricaldist: filename=empiricaldist-0.3.10-cp36-none-any.whl size=10185 sha256=adafe946b002dae4dd143fb6ac343a713face6079c59ef8eafa50dd41d66056a\n",
            "  Stored in directory: /root/.cache/pip/wheels/c7/07/a3/5fb101329516f5209276247b9d44d163eb485798dcf7419721\n",
            "Successfully built empiricaldist\n",
            "Installing collected packages: empiricaldist\n",
            "Successfully installed empiricaldist-0.3.10\n"
          ],
          "name": "stdout"
        }
      ]
    },
    {
      "cell_type": "markdown",
      "metadata": {
        "id": "wIWqcSxznMSL"
      },
      "source": [
        "If everything we need is installed, the following cell should run without error."
      ]
    },
    {
      "cell_type": "code",
      "metadata": {
        "id": "8G78KNm7nMSL"
      },
      "source": [
        "import pandas as pd\n",
        "import numpy as np\n",
        "import matplotlib.pyplot as plt\n",
        "import seaborn as sns\n",
        "\n",
        "from empiricaldist import Pmf"
      ],
      "execution_count": null,
      "outputs": []
    },
    {
      "cell_type": "markdown",
      "metadata": {
        "id": "Q5Vah03inMSM"
      },
      "source": [
        "The following cells define functions from previous notebooks we will use again."
      ]
    },
    {
      "cell_type": "code",
      "metadata": {
        "id": "zZR06z9xnMSM"
      },
      "source": [
        "def values(series):\n",
        "    \"\"\"Count the values and sort.\n",
        "    \n",
        "    series: pd.Series\n",
        "    \n",
        "    returns: series mapping from values to frequencies\n",
        "    \"\"\"\n",
        "    return series.value_counts().sort_index()"
      ],
      "execution_count": null,
      "outputs": []
    },
    {
      "cell_type": "code",
      "metadata": {
        "id": "y0z2eaFKnMSM"
      },
      "source": [
        "def decorate(**options):\n",
        "    \"\"\"Decorate the current axes.\n",
        "    Call decorate with keyword arguments like\n",
        "    decorate(title='Title',\n",
        "             xlabel='x',\n",
        "             ylabel='y')\n",
        "    The keyword arguments can be any of the axis properties\n",
        "    https://matplotlib.org/api/axes_api.html\n",
        "    \"\"\"\n",
        "    plt.gca().set(**options)\n",
        "    plt.tight_layout()"
      ],
      "execution_count": null,
      "outputs": []
    },
    {
      "cell_type": "code",
      "metadata": {
        "id": "W37gN-qPnMSN",
        "colab": {
          "base_uri": "https://localhost:8080/"
        },
        "outputId": "aa0d7605-baa2-43e8-f6cf-2df08eff8783"
      },
      "source": [
        "from statsmodels.nonparametric.smoothers_lowess import lowess\n",
        "\n",
        "def make_lowess(series):\n",
        "    \"\"\"Use LOWESS to compute a smooth line.\n",
        "    \n",
        "    series: pd.Series\n",
        "    \n",
        "    returns: pd.Series\n",
        "    \"\"\"\n",
        "    y = series.values\n",
        "    x = series.index.values\n",
        "\n",
        "    smooth = lowess(y, x)\n",
        "    index, data = np.transpose(smooth)\n",
        "\n",
        "    return pd.Series(data, index=index) "
      ],
      "execution_count": null,
      "outputs": [
        {
          "output_type": "stream",
          "text": [
            "/usr/local/lib/python3.6/dist-packages/statsmodels/tools/_testing.py:19: FutureWarning: pandas.util.testing is deprecated. Use the functions in the public API at pandas.testing instead.\n",
            "  import pandas.util.testing as tm\n"
          ],
          "name": "stderr"
        }
      ]
    },
    {
      "cell_type": "code",
      "metadata": {
        "id": "kP6pq0j2nMSN"
      },
      "source": [
        "def plot_series_lowess(series, color):\n",
        "    \"\"\"Plots a series of data points and a smooth line.\n",
        "    \n",
        "    series: pd.Series\n",
        "    color: string or tuple\n",
        "    \"\"\"\n",
        "    series.plot(linewidth=0, marker='o', color=color, alpha=0.5)\n",
        "    smooth = make_lowess(series)\n",
        "    smooth.plot(label='_', color=color)"
      ],
      "execution_count": null,
      "outputs": []
    },
    {
      "cell_type": "code",
      "metadata": {
        "id": "BFYGHxhfnMSO"
      },
      "source": [
        "def plot_columns_lowess(table, columns, color_map):\n",
        "    \"\"\"Plot the columns in a DataFrame.\n",
        "    \n",
        "    table: DataFrame with a cross tabulation\n",
        "    columns: list of column names, in the desired order\n",
        "    color_map: mapping from column names to color_map\n",
        "    \"\"\"\n",
        "    for col in columns:\n",
        "        series = table[col]\n",
        "        plot_series_lowess(series, color_map[col])"
      ],
      "execution_count": null,
      "outputs": []
    },
    {
      "cell_type": "markdown",
      "metadata": {
        "id": "5ZAbvRMWnMSO"
      },
      "source": [
        "### Loading the data\n",
        "\n",
        "In the first notebook, we downloaded GSS data, loaded and cleaned it, resampled it to correct for stratified sampling, and then saved the data in an HDF5 file, which is much faster to load.\n",
        "\n",
        "The following cells downloads the file."
      ]
    },
    {
      "cell_type": "code",
      "metadata": {
        "id": "OZMw69epnMSP",
        "colab": {
          "base_uri": "https://localhost:8080/"
        },
        "outputId": "2c7d2a58-8cc4-4795-f81d-12bf1b048f88"
      },
      "source": [
        "# Load the data file\n",
        "\n",
        "import os\n",
        "\n",
        "datafile = 'gss_eda.3.hdf5'\n",
        "if not os.path.exists(datafile):\n",
        "    !wget https://github.com/AllenDowney/PoliticalAlignmentCaseStudy/raw/master/gss_eda.3.hdf5\n"
      ],
      "execution_count": null,
      "outputs": [
        {
          "output_type": "stream",
          "text": [
            "--2020-12-21 10:52:01--  https://github.com/AllenDowney/PoliticalAlignmentCaseStudy/raw/master/gss_eda.3.hdf5\n",
            "Resolving github.com (github.com)... 140.82.121.4\n",
            "Connecting to github.com (github.com)|140.82.121.4|:443... connected.\n",
            "HTTP request sent, awaiting response... 302 Found\n",
            "Location: https://raw.githubusercontent.com/AllenDowney/PoliticalAlignmentCaseStudy/master/gss_eda.3.hdf5 [following]\n",
            "--2020-12-21 10:52:01--  https://raw.githubusercontent.com/AllenDowney/PoliticalAlignmentCaseStudy/master/gss_eda.3.hdf5\n",
            "Resolving raw.githubusercontent.com (raw.githubusercontent.com)... 151.101.0.133, 151.101.64.133, 151.101.128.133, ...\n",
            "Connecting to raw.githubusercontent.com (raw.githubusercontent.com)|151.101.0.133|:443... connected.\n",
            "HTTP request sent, awaiting response... 200 OK\n",
            "Length: 20717513 (20M) [application/octet-stream]\n",
            "Saving to: ‘gss_eda.3.hdf5’\n",
            "\n",
            "gss_eda.3.hdf5      100%[===================>]  19.76M  70.4MB/s    in 0.3s    \n",
            "\n",
            "2020-12-21 10:52:03 (70.4 MB/s) - ‘gss_eda.3.hdf5’ saved [20717513/20717513]\n",
            "\n"
          ],
          "name": "stdout"
        }
      ]
    },
    {
      "cell_type": "markdown",
      "metadata": {
        "id": "PPl1pS0TnMSP"
      },
      "source": [
        "Now I'll load one of the resampled DataFrames."
      ]
    },
    {
      "cell_type": "code",
      "metadata": {
        "id": "_WvedQo-nMSP",
        "colab": {
          "base_uri": "https://localhost:8080/"
        },
        "outputId": "2e0eaa81-6800-4a20-f908-4983b98fe743"
      },
      "source": [
        "gss = pd.read_hdf(datafile, 'gss0')\n",
        "gss.shape"
      ],
      "execution_count": null,
      "outputs": [
        {
          "output_type": "execute_result",
          "data": {
            "text/plain": [
              "(64814, 169)"
            ]
          },
          "metadata": {
            "tags": []
          },
          "execution_count": 10
        }
      ]
    },
    {
      "cell_type": "markdown",
      "metadata": {
        "id": "w0PbRJJjnMSR"
      },
      "source": [
        "## Changes in social attitudes\n",
        "\n",
        "The General Social Survey includes questions about a variety of social attitudes and beliefs.  We can use this dataset to explore changes in the responses over time and the relationship with political alignment.\n",
        "\n",
        "In my subset of the GSS data, I selected questions that were asked repeatedly over the interval of the survey.  [You can see the variables I chose on the GSS web site](https://gssdataexplorer.norc.org/projects/52787/variables/data_cart).\n",
        "\n",
        "To do the exercises in this notebook, you should choose a variable that you think might be interesting.\n",
        "\n",
        "I will walk you through a process for exploring the variable you choose, but you should feel free to ignore my suggestions if you have a better idea."
      ]
    },
    {
      "cell_type": "markdown",
      "metadata": {
        "id": "y6Q-6dXhnMSR"
      },
      "source": [
        "If you are not sure which variable to explore, here is a [random selection of three that you can choose from](https://en.wikipedia.org/wiki/The_Paradox_of_Choice):"
      ]
    },
    {
      "cell_type": "code",
      "metadata": {
        "id": "VVGuiTMdnMSS",
        "colab": {
          "base_uri": "https://localhost:8080/"
        },
        "outputId": "334569cc-04e8-4a5b-ab31-8ad09649c011"
      },
      "source": [
        "cols = list(gss.columns)\n",
        "for col in ['ballot', 'id_', 'year']:\n",
        "    cols.remove(col)\n",
        "    \n",
        "np.random.shuffle(cols)\n",
        "for col in cols[:3]:\n",
        "    print(col)"
      ],
      "execution_count": null,
      "outputs": [
        {
          "output_type": "stream",
          "text": [
            "abnomore\n",
            "sex\n",
            "prayer\n"
          ],
          "name": "stdout"
        }
      ]
    },
    {
      "cell_type": "markdown",
      "metadata": {
        "id": "QYa-cO7ynMSS"
      },
      "source": [
        "\n",
        "\n",
        " I will look at responses to the following [Tell me if you agree or disagree with this statement: Most men are better suited emotionally for politics than are most women.](https://gssdataexplorer.norc.org/projects/92124/variables/591/vshow).\n",
        "\n",
        "> Tell me if you agree or disagree with this statement: Most men are better suited emotionally for politics than are most women.\n",
        "\n",
        "The valid responses are:\n",
        "\n",
        "```\n",
        "1\tAgree\n",
        "2\tDisagree\n",
        "3\tNot sure\n",
        "4\tno answer\n",
        "5 Not applicable\n",
        "```\n",
        "\n",
        "\n",
        "\n",
        "Here's the distribution of responses:"
      ]
    },
    {
      "cell_type": "code",
      "metadata": {
        "id": "By8xwckRnMSS",
        "colab": {
          "base_uri": "https://localhost:8080/"
        },
        "outputId": "b0fede7f-16c4-4c6a-efcd-b81c2dac345a"
      },
      "source": [
        "values(gss['fepol'])"
      ],
      "execution_count": null,
      "outputs": [
        {
          "output_type": "execute_result",
          "data": {
            "text/plain": [
              "1.0     9951\n",
              "2.0    24588\n",
              "Name: fepol, dtype: int64"
            ]
          },
          "metadata": {
            "tags": []
          },
          "execution_count": 12
        }
      ]
    },
    {
      "cell_type": "markdown",
      "metadata": {
        "id": "aW0umUQRnMST"
      },
      "source": [
        "And here's what the distribution looks like."
      ]
    },
    {
      "cell_type": "code",
      "metadata": {
        "id": "FDemqm2AnMSU",
        "colab": {
          "base_uri": "https://localhost:8080/",
          "height": 322
        },
        "outputId": "dbcdd085-270e-457b-e570-f0295e079b6c"
      },
      "source": [
        "pmf = Pmf.from_seq(gss['fepol'])\n",
        "pmf.bar(alpha=0.7)\n",
        "\n",
        "decorate(xlabel='Response',\n",
        "         ylabel='PMF',\n",
        "         title='Men are better suited for politics than women')\n",
        "\n",
        "responses = [1, 2, 3, 4]\n",
        "\n",
        "labels = ['Agree',\n",
        "          'Disagree',\n",
        "          'Not sure',\n",
        "          'No answer',\n",
        "          'Not applicable' ]\n",
        "\n",
        "plt.xticks(responses, labels, rotation=30);"
      ],
      "execution_count": null,
      "outputs": [
        {
          "output_type": "display_data",
          "data": {
            "image/png": "[encoded data removed]",
            "text/plain": [
              "<Figure size 432x288 with 1 Axes>"
            ]
          },
          "metadata": {
            "tags": [],
            "needs_background": "light"
          }
        }
      ]
    },
    {
      "cell_type": "markdown",
      "metadata": {
        "id": "h6bcRF1AnMSU"
      },
      "source": [
        "When you write your report, you should add a few sentences here to interpret the results you get for your variable.\n",
        "\n",
        "But remember that the results are an average over the entire interval of the survey, so you should not interpet it as a current condition."
      ]
    },
    {
      "cell_type": "markdown",
      "metadata": {
        "id": "AAT0CZ-5nMSU"
      },
      "source": [
        "## Responses over time\n",
        "\n",
        "If we make a cross tabulation of `year` and the variable of interest, we get the distribution of responses over time."
      ]
    },
    {
      "cell_type": "code",
      "metadata": {
        "id": "aJxg-vOEnMSV",
        "colab": {
          "base_uri": "https://localhost:8080/",
          "height": 225
        },
        "outputId": "394971aa-4f7a-4083-b9ed-b580a198402a"
      },
      "source": [
        "xtab = pd.crosstab(gss['year'], gss['fepol'], normalize='index')\n",
        "xtab.head()"
      ],
      "execution_count": null,
      "outputs": [
        {
          "output_type": "execute_result",
          "data": {
            "text/html": [
              "<div>\n",
              "<style scoped>\n",
              "    .dataframe tbody tr th:only-of-type {\n",
              "        vertical-align: middle;\n",
              "    }\n",
              "\n",
              "    .dataframe tbody tr th {\n",
              "        vertical-align: top;\n",
              "    }\n",
              "\n",
              "    .dataframe thead th {\n",
              "        text-align: right;\n",
              "    }\n",
              "</style>\n",
              "<table border=\"1\" class=\"dataframe\">\n",
              "  <thead>\n",
              "    <tr style=\"text-align: right;\">\n",
              "      <th>fepol</th>\n",
              "      <th>1.0</th>\n",
              "      <th>2.0</th>\n",
              "    </tr>\n",
              "    <tr>\n",
              "      <th>year</th>\n",
              "      <th></th>\n",
              "      <th></th>\n",
              "    </tr>\n",
              "  </thead>\n",
              "  <tbody>\n",
              "    <tr>\n",
              "      <th>1974</th>\n",
              "      <td>0.455604</td>\n",
              "      <td>0.544396</td>\n",
              "    </tr>\n",
              "    <tr>\n",
              "      <th>1975</th>\n",
              "      <td>0.513831</td>\n",
              "      <td>0.486169</td>\n",
              "    </tr>\n",
              "    <tr>\n",
              "      <th>1977</th>\n",
              "      <td>0.511096</td>\n",
              "      <td>0.488904</td>\n",
              "    </tr>\n",
              "    <tr>\n",
              "      <th>1978</th>\n",
              "      <td>0.440217</td>\n",
              "      <td>0.559783</td>\n",
              "    </tr>\n",
              "    <tr>\n",
              "      <th>1982</th>\n",
              "      <td>0.380220</td>\n",
              "      <td>0.619780</td>\n",
              "    </tr>\n",
              "  </tbody>\n",
              "</table>\n",
              "</div>"
            ],
            "text/plain": [
              "fepol       1.0       2.0\n",
              "year                     \n",
              "1974   0.455604  0.544396\n",
              "1975   0.513831  0.486169\n",
              "1977   0.511096  0.488904\n",
              "1978   0.440217  0.559783\n",
              "1982   0.380220  0.619780"
            ]
          },
          "metadata": {
            "tags": []
          },
          "execution_count": 40
        }
      ]
    },
    {
      "cell_type": "code",
      "metadata": {
        "id": "vEpcB606nMSV",
        "colab": {
          "base_uri": "https://localhost:8080/",
          "height": 225
        },
        "outputId": "2c3f6227-f213-4abb-8568-d2aba48957f9"
      },
      "source": [
        "xtab.tail()"
      ],
      "execution_count": null,
      "outputs": [
        {
          "output_type": "execute_result",
          "data": {
            "text/html": [
              "<div>\n",
              "<style scoped>\n",
              "    .dataframe tbody tr th:only-of-type {\n",
              "        vertical-align: middle;\n",
              "    }\n",
              "\n",
              "    .dataframe tbody tr th {\n",
              "        vertical-align: top;\n",
              "    }\n",
              "\n",
              "    .dataframe thead th {\n",
              "        text-align: right;\n",
              "    }\n",
              "</style>\n",
              "<table border=\"1\" class=\"dataframe\">\n",
              "  <thead>\n",
              "    <tr style=\"text-align: right;\">\n",
              "      <th>fepol</th>\n",
              "      <th>1.0</th>\n",
              "      <th>2.0</th>\n",
              "    </tr>\n",
              "    <tr>\n",
              "      <th>year</th>\n",
              "      <th></th>\n",
              "      <th></th>\n",
              "    </tr>\n",
              "  </thead>\n",
              "  <tbody>\n",
              "    <tr>\n",
              "      <th>2010</th>\n",
              "      <td>0.209480</td>\n",
              "      <td>0.790520</td>\n",
              "    </tr>\n",
              "    <tr>\n",
              "      <th>2012</th>\n",
              "      <td>0.203980</td>\n",
              "      <td>0.796020</td>\n",
              "    </tr>\n",
              "    <tr>\n",
              "      <th>2014</th>\n",
              "      <td>0.199379</td>\n",
              "      <td>0.800621</td>\n",
              "    </tr>\n",
              "    <tr>\n",
              "      <th>2016</th>\n",
              "      <td>0.184632</td>\n",
              "      <td>0.815368</td>\n",
              "    </tr>\n",
              "    <tr>\n",
              "      <th>2018</th>\n",
              "      <td>0.131068</td>\n",
              "      <td>0.868932</td>\n",
              "    </tr>\n",
              "  </tbody>\n",
              "</table>\n",
              "</div>"
            ],
            "text/plain": [
              "fepol       1.0       2.0\n",
              "year                     \n",
              "2010   0.209480  0.790520\n",
              "2012   0.203980  0.796020\n",
              "2014   0.199379  0.800621\n",
              "2016   0.184632  0.815368\n",
              "2018   0.131068  0.868932"
            ]
          },
          "metadata": {
            "tags": []
          },
          "execution_count": 41
        }
      ]
    },
    {
      "cell_type": "markdown",
      "metadata": {
        "id": "PZZFF73GnMSV"
      },
      "source": [
        "Now we can plot the results."
      ]
    },
    {
      "cell_type": "code",
      "metadata": {
        "id": "YwPifgVRnMSV",
        "colab": {
          "base_uri": "https://localhost:8080/",
          "height": 821
        },
        "outputId": "32930ab2-2c7c-4ffe-abd0-49b4c7b3289f"
      },
      "source": [
        "\n",
        "\n",
        "\n",
        "for response, label in zip(responses, labels):\n",
        "    xtab[response].plot(label=label)\n",
        "\n",
        "decorate(xlabel='Year',\n",
        "         ylabel='percentage',\n",
        "         xlim=[1972, 2020],\n",
        "         title='Are men better suited emotionally for politics than women?')\n",
        "\n",
        "plt.legend();\n"
      ],
      "execution_count": null,
      "outputs": [
        {
          "output_type": "error",
          "ename": "KeyError",
          "evalue": "ignored",
          "traceback": [
            "\u001b[0;31m---------------------------------------------------------------------------\u001b[0m",
            "\u001b[0;31mKeyError\u001b[0m                                  Traceback (most recent call last)",
            "\u001b[0;32m/usr/local/lib/python3.6/dist-packages/pandas/core/indexes/base.py\u001b[0m in \u001b[0;36mget_loc\u001b[0;34m(self, key, method, tolerance)\u001b[0m\n\u001b[1;32m   2897\u001b[0m             \u001b[0;32mtry\u001b[0m\u001b[0;34m:\u001b[0m\u001b[0;34m\u001b[0m\u001b[0;34m\u001b[0m\u001b[0m\n\u001b[0;32m-> 2898\u001b[0;31m                 \u001b[0;32mreturn\u001b[0m \u001b[0mself\u001b[0m\u001b[0;34m.\u001b[0m\u001b[0m_engine\u001b[0m\u001b[0;34m.\u001b[0m\u001b[0mget_loc\u001b[0m\u001b[0;34m(\u001b[0m\u001b[0mcasted_key\u001b[0m\u001b[0;34m)\u001b[0m\u001b[0;34m\u001b[0m\u001b[0;34m\u001b[0m\u001b[0m\n\u001b[0m\u001b[1;32m   2899\u001b[0m             \u001b[0;32mexcept\u001b[0m \u001b[0mKeyError\u001b[0m \u001b[0;32mas\u001b[0m \u001b[0merr\u001b[0m\u001b[0;34m:\u001b[0m\u001b[0;34m\u001b[0m\u001b[0;34m\u001b[0m\u001b[0m\n",
            "\u001b[0;32mpandas/_libs/index.pyx\u001b[0m in \u001b[0;36mpandas._libs.index.IndexEngine.get_loc\u001b[0;34m()\u001b[0m\n",
            "\u001b[0;32mpandas/_libs/index.pyx\u001b[0m in \u001b[0;36mpandas._libs.index.IndexEngine.get_loc\u001b[0;34m()\u001b[0m\n",
            "\u001b[0;32mpandas/_libs/hashtable_class_helper.pxi\u001b[0m in \u001b[0;36mpandas._libs.hashtable.Float64HashTable.get_item\u001b[0;34m()\u001b[0m\n",
            "\u001b[0;32mpandas/_libs/hashtable_class_helper.pxi\u001b[0m in \u001b[0;36mpandas._libs.hashtable.Float64HashTable.get_item\u001b[0;34m()\u001b[0m\n",
            "\u001b[0;31mKeyError\u001b[0m: 3.0",
            "\nThe above exception was the direct cause of the following exception:\n",
            "\u001b[0;31mKeyError\u001b[0m                                  Traceback (most recent call last)",
            "\u001b[0;32m<ipython-input-45-c309c6d6b51f>\u001b[0m in \u001b[0;36m<module>\u001b[0;34m()\u001b[0m\n\u001b[1;32m      3\u001b[0m \u001b[0;34m\u001b[0m\u001b[0m\n\u001b[1;32m      4\u001b[0m \u001b[0;32mfor\u001b[0m \u001b[0mresponse\u001b[0m\u001b[0;34m,\u001b[0m \u001b[0mlabel\u001b[0m \u001b[0;32min\u001b[0m \u001b[0mzip\u001b[0m\u001b[0;34m(\u001b[0m\u001b[0mresponses\u001b[0m\u001b[0;34m,\u001b[0m \u001b[0mlabels\u001b[0m\u001b[0;34m)\u001b[0m\u001b[0;34m:\u001b[0m\u001b[0;34m\u001b[0m\u001b[0;34m\u001b[0m\u001b[0m\n\u001b[0;32m----> 5\u001b[0;31m     \u001b[0mxtab\u001b[0m\u001b[0;34m[\u001b[0m\u001b[0mresponse\u001b[0m\u001b[0;34m]\u001b[0m\u001b[0;34m.\u001b[0m\u001b[0mplot\u001b[0m\u001b[0;34m(\u001b[0m\u001b[0mlabel\u001b[0m\u001b[0;34m=\u001b[0m\u001b[0mlabel\u001b[0m\u001b[0;34m)\u001b[0m\u001b[0;34m\u001b[0m\u001b[0;34m\u001b[0m\u001b[0m\n\u001b[0m\u001b[1;32m      6\u001b[0m \u001b[0;34m\u001b[0m\u001b[0m\n\u001b[1;32m      7\u001b[0m decorate(xlabel='Year',\n",
            "\u001b[0;32m/usr/local/lib/python3.6/dist-packages/pandas/core/frame.py\u001b[0m in \u001b[0;36m__getitem__\u001b[0;34m(self, key)\u001b[0m\n\u001b[1;32m   2904\u001b[0m             \u001b[0;32mif\u001b[0m \u001b[0mself\u001b[0m\u001b[0;34m.\u001b[0m\u001b[0mcolumns\u001b[0m\u001b[0;34m.\u001b[0m\u001b[0mnlevels\u001b[0m \u001b[0;34m>\u001b[0m \u001b[0;36m1\u001b[0m\u001b[0;34m:\u001b[0m\u001b[0;34m\u001b[0m\u001b[0;34m\u001b[0m\u001b[0m\n\u001b[1;32m   2905\u001b[0m                 \u001b[0;32mreturn\u001b[0m \u001b[0mself\u001b[0m\u001b[0;34m.\u001b[0m\u001b[0m_getitem_multilevel\u001b[0m\u001b[0;34m(\u001b[0m\u001b[0mkey\u001b[0m\u001b[0;34m)\u001b[0m\u001b[0;34m\u001b[0m\u001b[0;34m\u001b[0m\u001b[0m\n\u001b[0;32m-> 2906\u001b[0;31m             \u001b[0mindexer\u001b[0m \u001b[0;34m=\u001b[0m \u001b[0mself\u001b[0m\u001b[0;34m.\u001b[0m\u001b[0mcolumns\u001b[0m\u001b[0;34m.\u001b[0m\u001b[0mget_loc\u001b[0m\u001b[0;34m(\u001b[0m\u001b[0mkey\u001b[0m\u001b[0;34m)\u001b[0m\u001b[0;34m\u001b[0m\u001b[0;34m\u001b[0m\u001b[0m\n\u001b[0m\u001b[1;32m   2907\u001b[0m             \u001b[0;32mif\u001b[0m \u001b[0mis_integer\u001b[0m\u001b[0;34m(\u001b[0m\u001b[0mindexer\u001b[0m\u001b[0;34m)\u001b[0m\u001b[0;34m:\u001b[0m\u001b[0;34m\u001b[0m\u001b[0;34m\u001b[0m\u001b[0m\n\u001b[1;32m   2908\u001b[0m                 \u001b[0mindexer\u001b[0m \u001b[0;34m=\u001b[0m \u001b[0;34m[\u001b[0m\u001b[0mindexer\u001b[0m\u001b[0;34m]\u001b[0m\u001b[0;34m\u001b[0m\u001b[0;34m\u001b[0m\u001b[0m\n",
            "\u001b[0;32m/usr/local/lib/python3.6/dist-packages/pandas/core/indexes/numeric.py\u001b[0m in \u001b[0;36mget_loc\u001b[0;34m(self, key, method, tolerance)\u001b[0m\n\u001b[1;32m    422\u001b[0m             \u001b[0;32mreturn\u001b[0m \u001b[0mnan_idxs\u001b[0m\u001b[0;34m\u001b[0m\u001b[0;34m\u001b[0m\u001b[0m\n\u001b[1;32m    423\u001b[0m \u001b[0;34m\u001b[0m\u001b[0m\n\u001b[0;32m--> 424\u001b[0;31m         \u001b[0;32mreturn\u001b[0m \u001b[0msuper\u001b[0m\u001b[0;34m(\u001b[0m\u001b[0;34m)\u001b[0m\u001b[0;34m.\u001b[0m\u001b[0mget_loc\u001b[0m\u001b[0;34m(\u001b[0m\u001b[0mkey\u001b[0m\u001b[0;34m,\u001b[0m \u001b[0mmethod\u001b[0m\u001b[0;34m=\u001b[0m\u001b[0mmethod\u001b[0m\u001b[0;34m,\u001b[0m \u001b[0mtolerance\u001b[0m\u001b[0;34m=\u001b[0m\u001b[0mtolerance\u001b[0m\u001b[0;34m)\u001b[0m\u001b[0;34m\u001b[0m\u001b[0;34m\u001b[0m\u001b[0m\n\u001b[0m\u001b[1;32m    425\u001b[0m \u001b[0;34m\u001b[0m\u001b[0m\n\u001b[1;32m    426\u001b[0m     \u001b[0;34m@\u001b[0m\u001b[0mcache_readonly\u001b[0m\u001b[0;34m\u001b[0m\u001b[0;34m\u001b[0m\u001b[0m\n",
            "\u001b[0;32m/usr/local/lib/python3.6/dist-packages/pandas/core/indexes/base.py\u001b[0m in \u001b[0;36mget_loc\u001b[0;34m(self, key, method, tolerance)\u001b[0m\n\u001b[1;32m   2898\u001b[0m                 \u001b[0;32mreturn\u001b[0m \u001b[0mself\u001b[0m\u001b[0;34m.\u001b[0m\u001b[0m_engine\u001b[0m\u001b[0;34m.\u001b[0m\u001b[0mget_loc\u001b[0m\u001b[0;34m(\u001b[0m\u001b[0mcasted_key\u001b[0m\u001b[0;34m)\u001b[0m\u001b[0;34m\u001b[0m\u001b[0;34m\u001b[0m\u001b[0m\n\u001b[1;32m   2899\u001b[0m             \u001b[0;32mexcept\u001b[0m \u001b[0mKeyError\u001b[0m \u001b[0;32mas\u001b[0m \u001b[0merr\u001b[0m\u001b[0;34m:\u001b[0m\u001b[0;34m\u001b[0m\u001b[0;34m\u001b[0m\u001b[0m\n\u001b[0;32m-> 2900\u001b[0;31m                 \u001b[0;32mraise\u001b[0m \u001b[0mKeyError\u001b[0m\u001b[0;34m(\u001b[0m\u001b[0mkey\u001b[0m\u001b[0;34m)\u001b[0m \u001b[0;32mfrom\u001b[0m \u001b[0merr\u001b[0m\u001b[0;34m\u001b[0m\u001b[0;34m\u001b[0m\u001b[0m\n\u001b[0m\u001b[1;32m   2901\u001b[0m \u001b[0;34m\u001b[0m\u001b[0m\n\u001b[1;32m   2902\u001b[0m         \u001b[0;32mif\u001b[0m \u001b[0mtolerance\u001b[0m \u001b[0;32mis\u001b[0m \u001b[0;32mnot\u001b[0m \u001b[0;32mNone\u001b[0m\u001b[0;34m:\u001b[0m\u001b[0;34m\u001b[0m\u001b[0;34m\u001b[0m\u001b[0m\n",
            "\u001b[0;31mKeyError\u001b[0m: 3"
          ]
        },
        {
          "output_type": "display_data",
          "data": {
            "image/png": "[encoded data removed]",
            "text/plain": [
              "<Figure size 432x288 with 1 Axes>"
            ]
          },
          "metadata": {
            "tags": [],
            "needs_background": "light"
          }
        }
      ]
    },
    {
      "cell_type": "markdown",
      "metadata": {
        "id": "_4X-rIPHnMSW"
      },
      "source": [
        "When you write your report, you should add a few sentences here to interpret the results you get for your variable."
      ]
    },
    {
      "cell_type": "markdown",
      "metadata": {
        "id": "g5bKYYDQnMSW"
      },
      "source": [
        "## Political alignment\n",
        "\n",
        "To explore the relationship between this variable and political alignment, I'll recode political alignment into three groups:"
      ]
    },
    {
      "cell_type": "code",
      "metadata": {
        "id": "g-pmlP0nnMSW"
      },
      "source": [
        "d_polviews = {1: 'Liberal', \n",
        "              2: 'Liberal', \n",
        "              3: 'Liberal', \n",
        "              4: 'Moderate', \n",
        "              5: 'Conservative', \n",
        "              6: 'Conservative', \n",
        "              7: 'Conservative'}"
      ],
      "execution_count": null,
      "outputs": []
    },
    {
      "cell_type": "markdown",
      "metadata": {
        "id": "E2U6wFg1nMSW"
      },
      "source": [
        "I'll use `replace`, as we've seen before, and store the result as a new column in the DataFrame."
      ]
    },
    {
      "cell_type": "code",
      "metadata": {
        "id": "OD5b0AA-nMSW"
      },
      "source": [
        "gss['polviews3'] = gss['polviews'].replace(d_polviews)"
      ],
      "execution_count": null,
      "outputs": []
    },
    {
      "cell_type": "markdown",
      "metadata": {
        "id": "KgOaOUVXnMSW"
      },
      "source": [
        "With this scale, there are roughly the same number of people in each group."
      ]
    },
    {
      "cell_type": "code",
      "metadata": {
        "id": "Ffj-abxnnMSX",
        "colab": {
          "base_uri": "https://localhost:8080/"
        },
        "outputId": "144a981c-0a0a-41d7-eb6b-8dbd775465c1"
      },
      "source": [
        "values(gss['polviews3'])"
      ],
      "execution_count": null,
      "outputs": [
        {
          "output_type": "execute_result",
          "data": {
            "text/plain": [
              "Conservative    19129\n",
              "Liberal         14979\n",
              "Moderate        21444\n",
              "Name: polviews3, dtype: int64"
            ]
          },
          "metadata": {
            "tags": []
          },
          "execution_count": 20
        }
      ]
    },
    {
      "cell_type": "code",
      "metadata": {
        "id": "96n_95ernMSX",
        "colab": {
          "base_uri": "https://localhost:8080/",
          "height": 297
        },
        "outputId": "46086208-4bea-45ec-8ad7-b352ed2af685"
      },
      "source": [
        "pmf = Pmf.from_seq(gss['polviews3'])\n",
        "pmf.bar(color='C1', alpha=0.7)\n",
        "\n",
        "decorate(xlabel='Political alignment',\n",
        "         ylabel='PMF',\n",
        "         title='Distribution of political alignment')"
      ],
      "execution_count": null,
      "outputs": [
        {
          "output_type": "display_data",
          "data": {
            "image/png": "[encoded data removed]",
            "text/plain": [
              "<Figure size 432x288 with 1 Axes>"
            ]
          },
          "metadata": {
            "tags": [],
            "needs_background": "light"
          }
        }
      ]
    },
    {
      "cell_type": "markdown",
      "metadata": {
        "id": "GymRxjipnMSX"
      },
      "source": [
        "## Group by political alignment\n",
        "\n",
        "Now we can use `groupby` to group the respondents by political alignment."
      ]
    },
    {
      "cell_type": "code",
      "metadata": {
        "id": "MGFuGwSZnMSX"
      },
      "source": [
        "by_polviews = gss.groupby('polviews3')"
      ],
      "execution_count": null,
      "outputs": []
    },
    {
      "cell_type": "markdown",
      "metadata": {
        "id": "jQ1wL46wnMSY"
      },
      "source": [
        "Next I will plot the distribution of responses in each group.\n",
        "\n",
        "But first I'll make a dictionary that maps from each group to a color."
      ]
    },
    {
      "cell_type": "code",
      "metadata": {
        "id": "IvzdicsFnMSY",
        "colab": {
          "base_uri": "https://localhost:8080/",
          "height": 89
        },
        "outputId": "8eca05d1-2463-48b1-d061-3467ad21a7b9"
      },
      "source": [
        "muted = sns.color_palette('muted', 5)\n",
        "sns.palplot(muted)"
      ],
      "execution_count": null,
      "outputs": [
        {
          "output_type": "display_data",
          "data": {
            "image/png": "[encoded data removed]",
            "text/plain": [
              "<Figure size 360x72 with 1 Axes>"
            ]
          },
          "metadata": {
            "tags": [],
            "needs_background": "light"
          }
        }
      ]
    },
    {
      "cell_type": "code",
      "metadata": {
        "id": "feVPPgxCnMSY"
      },
      "source": [
        "color_map = {'Conservative': muted[3], \n",
        "              'Moderate': muted[4], \n",
        "               'Liberal': muted[0]}"
      ],
      "execution_count": null,
      "outputs": []
    },
    {
      "cell_type": "markdown",
      "metadata": {
        "id": "_ecPrvoRnMSY"
      },
      "source": [
        "Now I'll make a PMF of responses for each group."
      ]
    },
    {
      "cell_type": "code",
      "metadata": {
        "id": "IAFEDy0TnMSY",
        "colab": {
          "base_uri": "https://localhost:8080/",
          "height": 857
        },
        "outputId": "72696b8d-3137-45d4-cd08-4a9fb6e7829e"
      },
      "source": [
        "for name in color_map:\n",
        "    group = by_polviews.get_group(name)\n",
        "    \n",
        "    plt.figure()\n",
        "    pmf = Pmf.from_seq(group['homosex'])\n",
        "    pmf.bar(label=name, color=color_map[name], alpha=0.7)\n",
        "    \n",
        "    decorate(xlabel='Response',\n",
        "             ylabel='PMF',\n",
        "             title='Distribution of responses')\n",
        "    \n",
        "    plt.legend()"
      ],
      "execution_count": null,
      "outputs": [
        {
          "output_type": "display_data",
          "data": {
            "image/png": "[encoded data removed]",
            "text/plain": [
              "<Figure size 432x288 with 1 Axes>"
            ]
          },
          "metadata": {
            "tags": [],
            "needs_background": "light"
          }
        },
        {
          "output_type": "display_data",
          "data": {
            "image/png": "[encoded data removed]",
            "text/plain": [
              "<Figure size 432x288 with 1 Axes>"
            ]
          },
          "metadata": {
            "tags": [],
            "needs_background": "light"
          }
        },
        {
          "output_type": "display_data",
          "data": {
            "image/png": "[encoded data removed]",
            "text/plain": [
              "<Figure size 432x288 with 1 Axes>"
            ]
          },
          "metadata": {
            "tags": [],
            "needs_background": "light"
          }
        }
      ]
    },
    {
      "cell_type": "markdown",
      "metadata": {
        "id": "GsoaRgGFnMSY"
      },
      "source": [
        "When you write your report, you should add a few sentences here to interpret the results.\n",
        "\n",
        "But again, the results are an average over the entire interval of the survey, so you should not interpet it as a current condition."
      ]
    },
    {
      "cell_type": "markdown",
      "metadata": {
        "id": "eXv2hI7onMSZ"
      },
      "source": [
        "## Recode\n",
        "\n",
        "For each group, we could compute the mean of the responses, but it would be hard to interpret. So we'll recode the variable of interest to make the mean more... meaningful.\n",
        "\n",
        "For the variable I chose, a majority of respondents chose \"always wrong\".  I'll use that as my baseline response with code 1, and lump the other responses with code 0."
      ]
    },
    {
      "cell_type": "code",
      "metadata": {
        "id": "7qmm5FQZnMSZ"
      },
      "source": [
        "d_recode = {1:1, 2:0, 3:0, 4:0}"
      ],
      "execution_count": null,
      "outputs": []
    },
    {
      "cell_type": "markdown",
      "metadata": {
        "id": "zYtIJJaFnMSZ"
      },
      "source": [
        "We can use `replace` to recode the values and store the result as a new column in the DataFrame."
      ]
    },
    {
      "cell_type": "code",
      "metadata": {
        "id": "wrb-VcJsnMSZ"
      },
      "source": [
        "gss['recoded'] = gss['fepol'].replace(d_recode)"
      ],
      "execution_count": null,
      "outputs": []
    },
    {
      "cell_type": "markdown",
      "metadata": {
        "id": "cYuXAUQ7nMSZ"
      },
      "source": [
        "And we'll use `values` to check whether it worked."
      ]
    },
    {
      "cell_type": "code",
      "metadata": {
        "id": "sZ_jC-PBnMSa",
        "colab": {
          "base_uri": "https://localhost:8080/"
        },
        "outputId": "ba20216c-7c15-41e4-eed6-847cfd1d509f"
      },
      "source": [
        "values(gss['recoded'])"
      ],
      "execution_count": null,
      "outputs": [
        {
          "output_type": "execute_result",
          "data": {
            "text/plain": [
              "0.0    24588\n",
              "1.0     9951\n",
              "Name: recoded, dtype: int64"
            ]
          },
          "metadata": {
            "tags": []
          },
          "execution_count": 31
        }
      ]
    },
    {
      "cell_type": "markdown",
      "metadata": {
        "id": "UrSEZbIHnMSa"
      },
      "source": [
        "Now if we compute the mean, we can interpret it as \"the fraction of respondents who think same-sex sexual relations are always wrong\"."
      ]
    },
    {
      "cell_type": "code",
      "metadata": {
        "id": "kOJ1vX0FnMSa",
        "colab": {
          "base_uri": "https://localhost:8080/"
        },
        "outputId": "b031e7cd-6781-4ed7-e6c5-114e3568018e"
      },
      "source": [
        "gss['recoded'].mean()"
      ],
      "execution_count": null,
      "outputs": [
        {
          "output_type": "execute_result",
          "data": {
            "text/plain": [
              "0.28810909390449524"
            ]
          },
          "metadata": {
            "tags": []
          },
          "execution_count": 32
        }
      ]
    },
    {
      "cell_type": "markdown",
      "metadata": {
        "id": "WFCHfBLUnMSa"
      },
      "source": [
        "## Average by group\n",
        "\n"
      ]
    },
    {
      "cell_type": "markdown",
      "metadata": {
        "id": "2cXXGdq9nMSa"
      },
      "source": [
        "Now we can compute the mean of the recoded variable in each group."
      ]
    },
    {
      "cell_type": "code",
      "metadata": {
        "id": "_K9_Wio6nMSa",
        "colab": {
          "base_uri": "https://localhost:8080/"
        },
        "outputId": "e0ec6812-b870-4c91-d672-35286772e912"
      },
      "source": [
        "means = by_polviews['recoded'].mean()\n",
        "means"
      ],
      "execution_count": null,
      "outputs": [
        {
          "output_type": "execute_result",
          "data": {
            "text/plain": [
              "polviews3\n",
              "Conservative    0.334642\n",
              "Liberal         0.215088\n",
              "Moderate        0.278754\n",
              "Name: recoded, dtype: float32"
            ]
          },
          "metadata": {
            "tags": []
          },
          "execution_count": 34
        }
      ]
    },
    {
      "cell_type": "markdown",
      "metadata": {
        "id": "w3N_gRetnMSb"
      },
      "source": [
        "To get the values in a particular order, we can use the group names as an index:"
      ]
    },
    {
      "cell_type": "code",
      "metadata": {
        "id": "pjOVAKfDnMSb",
        "colab": {
          "base_uri": "https://localhost:8080/"
        },
        "outputId": "c506bfc4-f15d-42cf-b8ea-58a3f2b8e6c1"
      },
      "source": [
        "names = color_map.keys()\n",
        "names"
      ],
      "execution_count": null,
      "outputs": [
        {
          "output_type": "execute_result",
          "data": {
            "text/plain": [
              "dict_keys(['Conservative', 'Moderate', 'Liberal'])"
            ]
          },
          "metadata": {
            "tags": []
          },
          "execution_count": 35
        }
      ]
    },
    {
      "cell_type": "code",
      "metadata": {
        "id": "yWwayawYnMSb",
        "colab": {
          "base_uri": "https://localhost:8080/"
        },
        "outputId": "130db78b-537c-4ecd-b41d-e3b7492e783d"
      },
      "source": [
        "means[names]"
      ],
      "execution_count": null,
      "outputs": [
        {
          "output_type": "execute_result",
          "data": {
            "text/plain": [
              "polviews3\n",
              "Conservative    0.334642\n",
              "Moderate        0.278754\n",
              "Liberal         0.215088\n",
              "Name: recoded, dtype: float32"
            ]
          },
          "metadata": {
            "tags": []
          },
          "execution_count": 36
        }
      ]
    },
    {
      "cell_type": "markdown",
      "metadata": {
        "id": "0s04gTYznMSb"
      },
      "source": [
        "Now we can make a bar plot with color-coded bars:"
      ]
    },
    {
      "cell_type": "code",
      "metadata": {
        "id": "X5xhEpWhnMSb",
        "colab": {
          "base_uri": "https://localhost:8080/",
          "height": 273
        },
        "outputId": "5e7bb2f4-3d23-4523-cd6f-3860747ab64c"
      },
      "source": [
        "colors = color_map.values()\n",
        "\n",
        "means[names].plot(kind='bar', color=colors, alpha=0.7)\n",
        "\n",
        "decorate(xlabel='Political alignment',\n",
        "         ylabel='Fraction saying yes',\n",
        "         title='Are men better suited emotionally for politics than women?')\n",
        "\n",
        "plt.xticks(rotation='30');"
      ],
      "execution_count": null,
      "outputs": [
        {
          "output_type": "display_data",
          "data": {
            "image/png": "[encoded data removed]",
            "text/plain": [
              "<Figure size 432x288 with 1 Axes>"
            ]
          },
          "metadata": {
            "tags": [],
            "needs_background": "light"
          }
        }
      ]
    },
    {
      "cell_type": "markdown",
      "metadata": {
        "id": "7pNCf1v1nMSb"
      },
      "source": [
        "When you write your report, you should add a few sentences here to interpret the results you get for your variable."
      ]
    },
    {
      "cell_type": "markdown",
      "metadata": {
        "id": "ztXVFm8NnMSb"
      },
      "source": [
        "## Time series\n",
        "\n",
        "As we saw in previous notebooks, we can use `groupby` to group responses by year."
      ]
    },
    {
      "cell_type": "code",
      "metadata": {
        "id": "ypGGAmWInMSc"
      },
      "source": [
        "by_year = gss.groupby('year')"
      ],
      "execution_count": null,
      "outputs": []
    },
    {
      "cell_type": "markdown",
      "metadata": {
        "id": "wTnsXllbnMSc"
      },
      "source": [
        "From the result we can select the recoded variable and compute the mean."
      ]
    },
    {
      "cell_type": "code",
      "metadata": {
        "id": "-bvnQdtJnMSc"
      },
      "source": [
        "time_series = by_year['recoded'].mean()"
      ],
      "execution_count": null,
      "outputs": []
    },
    {
      "cell_type": "markdown",
      "metadata": {
        "id": "81dNoG89nMSc"
      },
      "source": [
        "And we can plot the results with the data points themselves as circles and a local regression model as a line."
      ]
    },
    {
      "cell_type": "code",
      "metadata": {
        "id": "kN6f3UqZnMSc",
        "colab": {
          "base_uri": "https://localhost:8080/",
          "height": 297
        },
        "outputId": "d43d788d-3b44-46f4-d43f-59f51462a5d0"
      },
      "source": [
        "plot_series_lowess(time_series, 'C1')\n",
        "\n",
        "decorate(xlabel='Year',\n",
        "         ylabel='Fraction saying yes',\n",
        "         xlim=[1970, 2020],\n",
        "         title='Are men better suited emotionally for politics than women?')"
      ],
      "execution_count": null,
      "outputs": [
        {
          "output_type": "display_data",
          "data": {
            "image/png": "[encoded data removed]",
            "text/plain": [
              "<Figure size 432x288 with 1 Axes>"
            ]
          },
          "metadata": {
            "tags": [],
            "needs_background": "light"
          }
        }
      ]
    },
    {
      "cell_type": "markdown",
      "metadata": {
        "id": "xWgoaumsnMSc"
      },
      "source": [
        "Again, you should add some text here to interpret the results you get for your variable."
      ]
    },
    {
      "cell_type": "markdown",
      "metadata": {
        "id": "uVHrKa48nMSd"
      },
      "source": [
        "## Time series by group\n",
        "\n",
        "So far, we have grouped by `polviews3` and computed the mean of the variable of interest in each group.\n",
        "\n",
        "Then we grouped by `year` and computed the mean for each year.\n",
        "\n",
        "Now we'll use `pivot_table` to compute the mean in each group for each year."
      ]
    },
    {
      "cell_type": "code",
      "metadata": {
        "id": "2ULR4caRnMSd"
      },
      "source": [
        "table = gss.pivot_table(values='recoded', \n",
        "                        index='year', \n",
        "                        columns='polviews3', \n",
        "                        aggfunc='mean')"
      ],
      "execution_count": null,
      "outputs": []
    },
    {
      "cell_type": "markdown",
      "metadata": {
        "id": "jhatPtEPnMSd"
      },
      "source": [
        "The result is a table that has years running down the rows and political alignment running across the columns.\n",
        "\n",
        "Each entry in the table is the mean of the variable of interest for a given group in a given year."
      ]
    },
    {
      "cell_type": "code",
      "metadata": {
        "id": "eDLXhNM_nMSd",
        "colab": {
          "base_uri": "https://localhost:8080/",
          "height": 225
        },
        "outputId": "04a0c5a5-033f-4ce0-872b-f3a32b6df743"
      },
      "source": [
        "table.head()"
      ],
      "execution_count": null,
      "outputs": [
        {
          "output_type": "execute_result",
          "data": {
            "text/html": [
              "<div>\n",
              "<style scoped>\n",
              "    .dataframe tbody tr th:only-of-type {\n",
              "        vertical-align: middle;\n",
              "    }\n",
              "\n",
              "    .dataframe tbody tr th {\n",
              "        vertical-align: top;\n",
              "    }\n",
              "\n",
              "    .dataframe thead th {\n",
              "        text-align: right;\n",
              "    }\n",
              "</style>\n",
              "<table border=\"1\" class=\"dataframe\">\n",
              "  <thead>\n",
              "    <tr style=\"text-align: right;\">\n",
              "      <th>polviews3</th>\n",
              "      <th>Conservative</th>\n",
              "      <th>Liberal</th>\n",
              "      <th>Moderate</th>\n",
              "    </tr>\n",
              "    <tr>\n",
              "      <th>year</th>\n",
              "      <th></th>\n",
              "      <th></th>\n",
              "      <th></th>\n",
              "    </tr>\n",
              "  </thead>\n",
              "  <tbody>\n",
              "    <tr>\n",
              "      <th>1974</th>\n",
              "      <td>0.555556</td>\n",
              "      <td>0.302198</td>\n",
              "      <td>0.462745</td>\n",
              "    </tr>\n",
              "    <tr>\n",
              "      <th>1975</th>\n",
              "      <td>0.506234</td>\n",
              "      <td>0.491879</td>\n",
              "      <td>0.512287</td>\n",
              "    </tr>\n",
              "    <tr>\n",
              "      <th>1977</th>\n",
              "      <td>0.581395</td>\n",
              "      <td>0.418953</td>\n",
              "      <td>0.517730</td>\n",
              "    </tr>\n",
              "    <tr>\n",
              "      <th>1978</th>\n",
              "      <td>0.488069</td>\n",
              "      <td>0.371571</td>\n",
              "      <td>0.451852</td>\n",
              "    </tr>\n",
              "    <tr>\n",
              "      <th>1982</th>\n",
              "      <td>0.426295</td>\n",
              "      <td>0.338028</td>\n",
              "      <td>0.356287</td>\n",
              "    </tr>\n",
              "  </tbody>\n",
              "</table>\n",
              "</div>"
            ],
            "text/plain": [
              "polviews3  Conservative   Liberal  Moderate\n",
              "year                                       \n",
              "1974           0.555556  0.302198  0.462745\n",
              "1975           0.506234  0.491879  0.512287\n",
              "1977           0.581395  0.418953  0.517730\n",
              "1978           0.488069  0.371571  0.451852\n",
              "1982           0.426295  0.338028  0.356287"
            ]
          },
          "metadata": {
            "tags": []
          },
          "execution_count": 55
        }
      ]
    },
    {
      "cell_type": "markdown",
      "metadata": {
        "id": "4lYqTak4nMSd"
      },
      "source": [
        "## Plotting the results"
      ]
    },
    {
      "cell_type": "markdown",
      "metadata": {
        "id": "HLGO0cXOnMSd"
      },
      "source": [
        "Now we can use `plot_columns_lowess` to see the results."
      ]
    },
    {
      "cell_type": "code",
      "metadata": {
        "id": "i_qTBVF8nMSd"
      },
      "source": [
        "columns = ['Conservative', 'Moderate', 'Liberal']"
      ],
      "execution_count": null,
      "outputs": []
    },
    {
      "cell_type": "code",
      "metadata": {
        "id": "_o52t61hnMSd",
        "colab": {
          "base_uri": "https://localhost:8080/",
          "height": 297
        },
        "outputId": "1b1de2e3-466d-4c3b-ba76-64d9bad58523"
      },
      "source": [
        "plot_columns_lowess(table, columns, color_map)\n",
        "\n",
        "decorate(xlabel='Year',\n",
        "         ylabel='Fraction saying yes',\n",
        "         xlim=[1970, 2020],\n",
        "         title='Are men better suited emotionally for politics than women?')\n",
        "\n",
        "plt.legend();"
      ],
      "execution_count": null,
      "outputs": [
        {
          "output_type": "display_data",
          "data": {
            "image/png": "[encoded data removed]",
            "text/plain": [
              "<Figure size 432x288 with 1 Axes>"
            ]
          },
          "metadata": {
            "tags": [],
            "needs_background": "light"
          }
        }
      ]
    },
    {
      "cell_type": "markdown",
      "metadata": {
        "id": "SZ6-s2PKnMSe"
      },
      "source": [
        "You should write a few sentences here to interpret the results."
      ]
    },
    {
      "cell_type": "markdown",
      "metadata": {
        "id": "--CzV5vFnMSe"
      },
      "source": [
        "## Resampling\n",
        "\n",
        "The figures we have generated so far in this notebook are based on a single resampling of the GSS data.  Some of the features we see in these figures might be due to random sampling rather than actual changes in the world.\n",
        "\n",
        "By generating the same figures with different resampled datasets, we can get a sense of how much variation there is due to random sampling.\n",
        "\n",
        "To make that easier, the following function contains the code from the previous analysis all in one place.\n",
        "\n",
        "You will probably have to update this function with any changes you made in my code."
      ]
    },
    {
      "cell_type": "code",
      "metadata": {
        "id": "Wvaqu5EJnMSe"
      },
      "source": [
        "def plot_by_polviews(gss):\n",
        "    \"\"\"Plot mean response by polviews and year.\n",
        "    \n",
        "    gss: DataFrame\n",
        "    \"\"\"\n",
        "    gss['polviews3'] = gss['polviews'].replace(d_polviews)\n",
        "    gss['recoded'] = gss['fepol'].replace(d_recode)\n",
        "    \n",
        "    table = gss.pivot_table(values='recoded', \n",
        "                        index='year', \n",
        "                        columns='polviews3', \n",
        "                        aggfunc='mean')\n",
        "\n",
        "    plot_columns_lowess(table, columns, color_map)\n",
        "\n",
        "    decorate(xlabel='Year',\n",
        "             ylabel='Fraction saying yes',\n",
        "             xlim=[1970, 2020],\n",
        "             title='Are men better suited for politics than women?')"
      ],
      "execution_count": null,
      "outputs": []
    },
    {
      "cell_type": "markdown",
      "metadata": {
        "id": "YJ-fMdKynMSe"
      },
      "source": [
        "Now we can loop through the three resampled datasets in the HDF5 file and generate a figure for each one."
      ]
    },
    {
      "cell_type": "code",
      "metadata": {
        "id": "ps0sNzt2nMSe",
        "colab": {
          "base_uri": "https://localhost:8080/",
          "height": 857
        },
        "outputId": "634b2176-2609-49c5-a9c3-5d06fb3fd6ab"
      },
      "source": [
        "for key in ['gss0', 'gss1', 'gss2']:\n",
        "    df = pd.read_hdf('gss_eda.3.hdf5', key)\n",
        "\n",
        "    plt.figure()\n",
        "    plot_by_polviews(df)"
      ],
      "execution_count": null,
      "outputs": [
        {
          "output_type": "display_data",
          "data": {
            "image/png": "[encoded data removed]",
            "text/plain": [
              "<Figure size 432x288 with 1 Axes>"
            ]
          },
          "metadata": {
            "tags": [],
            "needs_background": "light"
          }
        },
        {
          "output_type": "display_data",
          "data": {
            "image/png": "[encoded data removed]",
            "text/plain": [
              "<Figure size 432x288 with 1 Axes>"
            ]
          },
          "metadata": {
            "tags": [],
            "needs_background": "light"
          }
        },
        {
          "output_type": "display_data",
          "data": {
            "image/png": "[encoded data removed]",
            "text/plain": [
              "<Figure size 432x288 with 1 Axes>"
            ]
          },
          "metadata": {
            "tags": [],
            "needs_background": "light"
          }
        }
      ]
    },
    {
      "cell_type": "markdown",
      "metadata": {
        "id": "keZeyarsnMSe"
      },
      "source": [
        "You should review your interpretation in the previous section to see how it holds up to resampling.  If you see an effect that is consistent in all three figures, it is less likely to be an artifact of random sampling.\n",
        "\n",
        "If it varies from one resampling to the next, you should probably not take it too seriously."
      ]
    },
    {
      "cell_type": "markdown",
      "metadata": {
        "id": "ihzOH_wwnMSe"
      },
      "source": [
        "## Publishing your report\n",
        "\n",
        "If you would like to publish your results as a report, here's how:\n",
        "\n",
        "0) Make sure you have saved your modified version of this notebook with an appropriate file name.\n",
        "\n",
        "1) Write your report by filling in the template below.\n",
        "\n",
        "2) Move your filled-in template to the top of the notebook.\n",
        "\n",
        "3) Hide or delete the cells a reader does not need to see.\n",
        "\n",
        "4) If you are running on Colab, use the Share button in the upper right to get a link you can share.\n",
        "\n",
        "5) Share the link with anyone who might be interested in your report.\n",
        "\n",
        "If you would like your report to be included in my collection, and possibly published on my blog, you can [use this form to submit it](https://forms.gle/ak3srpQM5qsMwRbA8).\n",
        "\n",
        "As an example, I wrote up [the results from this notebook in a blog article](https://www.allendowney.com/blog/2019/12/03/political-alignment-and-beliefs-about-homosexuality/)."
      ]
    },
    {
      "cell_type": "markdown",
      "metadata": {
        "id": "bLyaF5FanMSf"
      },
      "source": [
        "(This is the report template: Fill in the information below, then delete everything in parentheses.)\n",
        "\n",
        "## Headline that summarizes your results\n",
        "\n",
        "By Emmanuel Kamara\n",
        "\n",
        "\n",
        "From the graphs generated, I found out that a higher percentage of people in the late 190s belief that men are more suited for politics than women. However, this percentage reduced from 0.53 to 0.13 since 2010. \n",
        "\n",
        "I used one of the veriables in the 'GSS' (fepol). This veriable asks the question \"are men better suited emotionally in politics than women'? in total, 3306 people were interviewd (1874-2018) \n",
        "\n",
        "(Explain the methodology)\n",
        "\n",
        "(Present 1-2 figures that show your results)\n",
        "\n",
        "(Interpret the figures for the reader)\n",
        "\n",
        "(Having seen these results, what other questions are raised?)\n",
        "\n",
        "(Include the following text, which attributes the source of this material)\n",
        "\n",
        "This is a modified version of a notebook by Allen Downey, [available here](https://github.com/AllenDowney/PoliticalAlignmentCaseStudy) under the [MIT License](https://en.wikipedia.org/wiki/MIT_License).\n",
        "\n",
        "(If you agree to make your modified version available under the MIT license, you should include the following text.)\n",
        "\n",
        "This modified version is also under the [MIT License](https://en.wikipedia.org/wiki/MIT_License)."
      ]
    },
    {
      "cell_type": "code",
      "metadata": {
        "id": "BULGFD67nMSf"
      },
      "source": [
        ""
      ],
      "execution_count": null,
      "outputs": []
    }
  ]
}